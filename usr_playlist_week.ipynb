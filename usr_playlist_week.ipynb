{
 "cells": [
  {
   "cell_type": "code",
   "execution_count": 1,
   "metadata": {},
   "outputs": [],
   "source": [
    "from collections import OrderedDict"
   ]
  },
  {
   "cell_type": "code",
   "execution_count": 2,
   "metadata": {
    "ExecuteTime": {
     "end_time": "2020-11-19T09:37:10.776317Z",
     "start_time": "2020-11-19T09:37:10.267555Z"
    }
   },
   "outputs": [],
   "source": [
    "import requests\n",
    "import json,sys\n",
    "import base64\n",
    "from Crypto.Cipher import AES\n",
    "from Crypto.Util.Padding import pad\n",
    "import binascii\n",
    "import pandas as pd\n",
    "\n",
    "def flushprint(d):\n",
    "    sys.stdout.write('\\r')\n",
    "    sys.stdout.write(str(d))\n",
    "    sys.stdout.flush()    \n",
    "    \n",
    "headers={\n",
    "    'Accept': 'text/html,application/xhtml+xml,application/xml;q=0.9,image/webp,image/apng,*/*;q=0.8',\n",
    "    'Accept-Encoding': 'gzip, deflate',\n",
    "    'Accept-Language': 'zh-CN,zh;q=0.9',\n",
    "    'Connection': 'close',\n",
    "    #'Connection': 'keep-alive',\n",
    "    'Host':'music.163.com',\n",
    "    'Referer': 'http://music.163.com/',\n",
    "    'Upgrade-Insecure-Requests': '1',\n",
    "    'Cookie': 'appver=1.5.0.75771',\n",
    "    'User-Agent':'Mozilla/5.0 (X11; Linux x86_64)AppleWebKit/537.36 (KHTML, like Gecko) Chrome/62.0.3202.89 Safari/537.36',\n",
    "}"
   ]
  },
  {
   "cell_type": "code",
   "execution_count": 3,
   "metadata": {
    "ExecuteTime": {
     "end_time": "2020-11-19T09:37:10.785370Z",
     "start_time": "2020-11-19T09:37:10.777826Z"
    },
    "code_folding": [
     0,
     13,
     24
    ]
   },
   "outputs": [],
   "source": [
    "def aesEncrypt(text, secKey):\n",
    "    \"\"\"\n",
    "    aes加密\n",
    "    :param text: 要加密的文本\n",
    "    :param pubKey:密钥\n",
    "    :return:返回加密过后的文本（aes加密完后在进行一遍base64）\n",
    "    \"\"\"\n",
    "    blockSize = 16     \n",
    "    encryptor = AES.new(secKey.encode(), AES.MODE_CBC, b'0102030405060708')\n",
    "    text = pad(text.encode(),blockSize) #将texe的长度填充到16的倍数，不然后面的加密回报错\n",
    "    ciphertext = encryptor.encrypt(text) # 进行AES加密\n",
    "    ciphertext = base64.b64encode(ciphertext) #把加密后的结果再进行一遍base64\n",
    "    return str(ciphertext,encoding='utf-8') # 由于上面得到的是一个bytes 所以将它转换为字符串\n",
    "def rsaEncrypt(text, pubKey, modulus):\n",
    "    \"\"\"\n",
    "    将密钥进行rsa加密\n",
    "    :param text: 16位随机字符\n",
    "    :param pubKey:公钥\n",
    "    :param modulus:modulus\n",
    "    :return:\n",
    "    \"\"\"\n",
    "    text = text[::-1]\n",
    "    rs = int(binascii.b2a_hex(text.encode()), base=16) ** int(pubKey, base=16) % int(modulus, base=16)\n",
    "    return format(rs, 'x').zfill(256)\n",
    "def createSecretKey(size):\n",
    "    \"\"\"\n",
    "    返回一个长度为size的随机字符串 这里直接返回n个F了\n",
    "    :param size: 生成字符串的长度\n",
    "    :return:返回一个长度为size的随机字符串\n",
    "    \"\"\"\n",
    "    return 'F' * size"
   ]
  },
  {
   "cell_type": "code",
   "execution_count": 4,
   "metadata": {
    "ExecuteTime": {
     "end_time": "2020-11-19T09:37:11.066100Z",
     "start_time": "2020-11-19T09:37:11.016299Z"
    },
    "code_folding": [
     13,
     30,
     34,
     42,
     46,
     62,
     66,
     74
    ]
   },
   "outputs": [],
   "source": [
    "def userlisten(uid,listenlist):\n",
    "#post请求地址 这里为得到一首歌曲的url地址的api 其他api看后面\n",
    "    url = 'http://music.163.com/weapi/v1/play/record?csrf_token='\n",
    "#   headers = {'Referer': 'http://music.163.com/'}\n",
    "   #这个不知道是什么东西 跟着抄过来\n",
    "    modulus = '00e0b509f6259df8642dbc35662901477df22677ec152b5ff68ace615bb7b725152b3ab17a876aea8a5aa76d2e417629ec4ee341f56135fccf695280104e0312ecbda92557c93870114af6c9d05c4f7f0c3685b7a46bee255932575cce10b424d813cfe4875d3e82047b97ddef52741d546b8e289dc6935b3ece0462db0a22b8e7'\n",
    "    #将json进行第一次aes加密的时候用这个作为密钥\n",
    "    nonce = '0CoJUm6Qyw8W8jud'# rsa加密的公钥\n",
    "    pubKey = '010001'#构建json 这是获得一首歌曲的url的api 其他的api看后面\n",
    "    \n",
    "    \n",
    "    text1 = {\n",
    "            \"uid\":str(int(uid)),#用户id\n",
    "            \"type\":\"1\", \n",
    "            #为1时获得该用户一个星期听歌排行，为0时获得所有时间听歌排行\n",
    "            \"limit\":\"1000\",\n",
    "            \"offset\":\"0\",\n",
    "            \"total\":\"true\",\n",
    "            \"csrf_token\":\"\"\n",
    "           }\n",
    "         # 将字典dump成一个json字符串\n",
    "    text1 = json.dumps(text1)\n",
    "    #获得一个16位的随机字符串，我们这里图省事给的是16个F\n",
    "    secKey1 = createSecretKey(16)\n",
    "    encText1 = aesEncrypt(text1,nonce) #把上面构建的json数据使用nonce进行第一次aes加密\n",
    "    encText1 = aesEncrypt(encText1,secKey1)#使用随机的十六位字符串作为密钥把上面的到的结果进行第二次加密\n",
    "    encSecKey1 = rsaEncrypt(secKey1, pubKey, modulus) #把我们用作ARS加密的密钥进行ras加密\n",
    "    #由于我们这里使用的一直是使用十六个F作为密钥所以这个对于我们来说是不变的，所以只要加密一遍以后直接复制出来搞成一个常量就行，每次提交给服务器都一样\n",
    "    data1 = {\n",
    "            'params': str(encText1),\n",
    "            'encSecKey': encSecKey1\n",
    "           }\n",
    "    try:\n",
    "        req1 = requests.post(url, headers=headers, data=data1) #发送post请求\n",
    "        info1 = json.loads(req1.text)\n",
    "        #if info1['code']==200:\n",
    "        #    weekinfo = info1\n",
    "        #else:\n",
    "        #    print('  ',uid,'  ',info1)\n",
    "        weekinfo = info1\n",
    "    except Exception as e:\n",
    "        print('  ',uid,'  ',e)\n",
    "        pass\n",
    "    \n",
    "    \n",
    "    \n",
    "    listen=[uid,weekinfo]\n",
    "    #print(listen)\n",
    "    listenlist.append(listen)\n",
    "    dict(listen)"
   ]
  },
  {
   "cell_type": "code",
   "execution_count": null,
   "metadata": {
    "ExecuteTime": {
     "end_time": "2020-11-19T09:37:11.222072Z",
     "start_time": "2020-11-19T09:37:11.218048Z"
    }
   },
   "outputs": [],
   "source": [
    "#path = 'comment_and_user_informations_with_albums.csv'\n",
    "#data = pd.read_csv(path,sep='\\t',encoding='utf-8',error_bad_lines=False,lineterminator='\\n',\n",
    "#                   names=['song_id', 'total', 'userid', 'username', 'commentId', 'content',\n",
    "#           'likedCount', 'ishotcom', 'time', 'berepid', 'berepcontent',\n",
    "#           'berepuser', 'berepusername', 'gender', 'birthday', 'city', 'province',\n",
    "#           'nickname', 'signature', 'userType', 'vipType', 'level', 'followeds',\n",
    "#           'follows', 'createDays', 'createTime', 'listenSongs', 'eventCount',\n",
    "#           'playlistBeSubscribedCount', 'playlistCount', 'allSubscribedCount',\n",
    "#           'mobileSign', 'pcSign', 'peopleCanSeeMyPlayRecord', 'binurl',\n",
    "#           'music_name', 'album_id', 'album_publishTime'])"
   ]
  },
  {
   "cell_type": "code",
   "execution_count": null,
   "metadata": {
    "ExecuteTime": {
     "end_time": "2020-11-19T09:37:11.424798Z",
     "start_time": "2020-11-19T09:37:11.413228Z"
    }
   },
   "outputs": [],
   "source": [
    "#data[data.ishotcom == 1.0]"
   ]
  },
  {
   "cell_type": "code",
   "execution_count": null,
   "metadata": {
    "ExecuteTime": {
     "end_time": "2020-11-19T09:37:12.167788Z",
     "start_time": "2020-11-19T09:37:12.165776Z"
    }
   },
   "outputs": [],
   "source": [
    "#cf = data[data.ishotcom == 1.0].drop_duplicates('userid', keep='first', inplace=False).reset_index(drop=True)"
   ]
  },
  {
   "cell_type": "code",
   "execution_count": 5,
   "metadata": {
    "ExecuteTime": {
     "end_time": "2020-11-19T09:37:14.118698Z",
     "start_time": "2020-11-19T09:37:13.534628Z"
    }
   },
   "outputs": [],
   "source": [
    "#ipath='userid_for_crawl_listenlist.csv'\n",
    "#从保存的文件中读取内容\n",
    "data = pd.read_csv('test.csv')"
   ]
  },
  {
   "cell_type": "code",
   "execution_count": 6,
   "metadata": {
    "ExecuteTime": {
     "end_time": "2020-11-19T09:37:15.266130Z",
     "start_time": "2020-11-19T09:37:15.254057Z"
    }
   },
   "outputs": [
    {
     "data": {
      "text/plain": [
       "0    304750847\n",
       "1    304774790\n",
       "2    304820633\n",
       "3    304835457\n",
       "4    304863751\n",
       "Name: userid, dtype: int64"
      ]
     },
     "execution_count": 6,
     "metadata": {},
     "output_type": "execute_result"
    }
   ],
   "source": [
    "ids=data['userid']\n",
    "ids"
   ]
  },
  {
   "cell_type": "code",
   "execution_count": 7,
   "metadata": {
    "ExecuteTime": {
     "end_time": "2020-11-20T05:58:00.658961Z",
     "start_time": "2020-11-20T05:58:00.655943Z"
    }
   },
   "outputs": [],
   "source": [
    "mid=0\n",
    "rids=ids[mid:5]"
   ]
  },
  {
   "cell_type": "code",
   "execution_count": 8,
   "metadata": {
    "ExecuteTime": {
     "end_time": "2020-11-20T05:58:01.317484Z",
     "start_time": "2020-11-20T05:58:01.312454Z"
    }
   },
   "outputs": [],
   "source": [
    "listenlist=[]"
   ]
  },
  {
   "cell_type": "code",
   "execution_count": 9,
   "metadata": {
    "ExecuteTime": {
     "end_time": "2020-11-19T09:37:27.898779Z",
     "start_time": "2020-11-19T09:37:27.895258Z"
    }
   },
   "outputs": [
    {
     "data": {
      "text/plain": [
       "'listenlist_test.json'"
      ]
     },
     "execution_count": 9,
     "metadata": {},
     "output_type": "execute_result"
    }
   ],
   "source": [
    "opath = 'listenlist_test.json'\n",
    "opath"
   ]
  },
  {
   "cell_type": "code",
   "execution_count": 10,
   "metadata": {
    "ExecuteTime": {
     "end_time": "2020-11-21T08:41:35.216531Z",
     "start_time": "2020-11-20T05:58:03.574023Z"
    },
    "scrolled": true
   },
   "outputs": [
    {
     "ename": "TypeError",
     "evalue": "cannot convert dictionary update sequence element #0 to a sequence",
     "output_type": "error",
     "traceback": [
      "\u001b[0;31m---------------------------------------------------------------------------\u001b[0m",
      "\u001b[0;31mTypeError\u001b[0m                                 Traceback (most recent call last)",
      "\u001b[0;32m<ipython-input-10-4b626865e152>\u001b[0m in \u001b[0;36m<module>\u001b[0;34m\u001b[0m\n\u001b[1;32m      1\u001b[0m \u001b[0;32mfor\u001b[0m \u001b[0mk\u001b[0m\u001b[0;34m,\u001b[0m\u001b[0mi\u001b[0m \u001b[0;32min\u001b[0m \u001b[0menumerate\u001b[0m\u001b[0;34m(\u001b[0m\u001b[0mrids\u001b[0m\u001b[0;34m)\u001b[0m\u001b[0;34m:\u001b[0m\u001b[0;34m\u001b[0m\u001b[0;34m\u001b[0m\u001b[0m\n\u001b[0;32m----> 2\u001b[0;31m     \u001b[0muserlisten\u001b[0m\u001b[0;34m(\u001b[0m\u001b[0mi\u001b[0m\u001b[0;34m,\u001b[0m\u001b[0mlistenlist\u001b[0m\u001b[0;34m)\u001b[0m\u001b[0;34m\u001b[0m\u001b[0;34m\u001b[0m\u001b[0m\n\u001b[0m\u001b[1;32m      3\u001b[0m     \u001b[0mflushprint\u001b[0m\u001b[0;34m(\u001b[0m\u001b[0mk\u001b[0m\u001b[0;34m)\u001b[0m\u001b[0;34m\u001b[0m\u001b[0;34m\u001b[0m\u001b[0m\n\u001b[1;32m      4\u001b[0m     \u001b[0;32mif\u001b[0m \u001b[0mk\u001b[0m\u001b[0;34m%\u001b[0m\u001b[0;36m20\u001b[0m \u001b[0;34m==\u001b[0m\u001b[0;36m0\u001b[0m \u001b[0;32mand\u001b[0m \u001b[0mk\u001b[0m\u001b[0;34m!=\u001b[0m\u001b[0;36m0\u001b[0m \u001b[0;34m:\u001b[0m\u001b[0;34m\u001b[0m\u001b[0;34m\u001b[0m\u001b[0m\n\u001b[1;32m      5\u001b[0m         \u001b[0mdata\u001b[0m \u001b[0;34m=\u001b[0m\u001b[0mjson\u001b[0m\u001b[0;34m.\u001b[0m\u001b[0mdumps\u001b[0m\u001b[0;34m(\u001b[0m\u001b[0mlisten\u001b[0m\u001b[0;34m)\u001b[0m\u001b[0;34m\u001b[0m\u001b[0;34m\u001b[0m\u001b[0m\n",
      "\u001b[0;32m<ipython-input-4-368a0fab76a6>\u001b[0m in \u001b[0;36muserlisten\u001b[0;34m(uid, listenlist)\u001b[0m\n\u001b[1;32m     48\u001b[0m     \u001b[0;31m#print(listen)\u001b[0m\u001b[0;34m\u001b[0m\u001b[0;34m\u001b[0m\u001b[0;34m\u001b[0m\u001b[0m\n\u001b[1;32m     49\u001b[0m     \u001b[0mlistenlist\u001b[0m\u001b[0;34m.\u001b[0m\u001b[0mappend\u001b[0m\u001b[0;34m(\u001b[0m\u001b[0mlisten\u001b[0m\u001b[0;34m)\u001b[0m\u001b[0;34m\u001b[0m\u001b[0;34m\u001b[0m\u001b[0m\n\u001b[0;32m---> 50\u001b[0;31m     \u001b[0mdict\u001b[0m\u001b[0;34m(\u001b[0m\u001b[0mlisten\u001b[0m\u001b[0;34m)\u001b[0m\u001b[0;34m\u001b[0m\u001b[0;34m\u001b[0m\u001b[0m\n\u001b[0m",
      "\u001b[0;31mTypeError\u001b[0m: cannot convert dictionary update sequence element #0 to a sequence"
     ]
    }
   ],
   "source": [
    "for k,i in enumerate(rids):\n",
    "    userlisten(i,listenlist)\n",
    "    flushprint(k)\n",
    "    if k%20 ==0 and k!=0 :\n",
    "        data =json.dumps(listen) \n",
    "        with open(opath,'a+',encoding='utf-8') as f:\n",
    "            listen.to_json(orient='records')\n",
    "        listenlist.clear()\n",
    "    if k%100 ==0 and k!=0:\n",
    "        num= k+mid+1\n",
    "        print('save the user of ',str(num), ' / 50000 ; ','%.2f%%' % (num/50000*100))"
   ]
  },
  {
   "cell_type": "code",
   "execution_count": null,
   "metadata": {
    "ExecuteTime": {
     "end_time": "2020-11-23T01:45:11.509963Z",
     "start_time": "2020-11-23T01:45:11.494335Z"
    }
   },
   "outputs": [],
   "source": [
    "import pandas as pd\n",
    "\n",
    "dat=pd.DataFrame(listenlist)"
   ]
  },
  {
   "cell_type": "code",
   "execution_count": null,
   "metadata": {},
   "outputs": [],
   "source": [
    "dat.shape\n",
    "dat\n",
    "dat.to_csv('df.csv')"
   ]
  },
  {
   "cell_type": "code",
   "execution_count": null,
   "metadata": {},
   "outputs": [],
   "source": [
    "result = dat.to_json(orient=\"records\")\n",
    "parsed = json.loads(result)\n",
    "d=json.dumps(parsed, indent=4)  "
   ]
  },
  {
   "cell_type": "code",
   "execution_count": null,
   "metadata": {},
   "outputs": [],
   "source": [
    "d"
   ]
  },
  {
   "cell_type": "code",
   "execution_count": null,
   "metadata": {},
   "outputs": [],
   "source": [
    "with open(opath,'a+',encoding='utf-8') as f:\n",
    "    data.to_csv(f,sep='\\t',encoding='utf-8',header=0,index=False)"
   ]
  },
  {
   "cell_type": "code",
   "execution_count": null,
   "metadata": {},
   "outputs": [],
   "source": []
  },
  {
   "cell_type": "code",
   "execution_count": null,
   "metadata": {},
   "outputs": [],
   "source": []
  },
  {
   "cell_type": "code",
   "execution_count": null,
   "metadata": {},
   "outputs": [],
   "source": []
  },
  {
   "cell_type": "markdown",
   "metadata": {},
   "source": [
    "## 案例草稿"
   ]
  },
  {
   "cell_type": "code",
   "execution_count": null,
   "metadata": {},
   "outputs": [],
   "source": []
  },
  {
   "cell_type": "code",
   "execution_count": null,
   "metadata": {
    "ExecuteTime": {
     "end_time": "2020-11-10T03:02:29.389839Z",
     "start_time": "2020-11-10T03:02:26.960119Z"
    }
   },
   "outputs": [],
   "source": [
    "#case 1 一切正常的\n",
    "uid=1671165524\n",
    "userlisten(uid,listenlist)"
   ]
  },
  {
   "cell_type": "code",
   "execution_count": null,
   "metadata": {
    "ExecuteTime": {
     "end_time": "2020-11-10T03:02:32.110858Z",
     "start_time": "2020-11-10T03:02:29.887797Z"
    }
   },
   "outputs": [],
   "source": [
    "#case2 有隐私权限的\n",
    "uid=1430350262\n",
    "userlisten(uid,listenlist)"
   ]
  },
  {
   "cell_type": "code",
   "execution_count": null,
   "metadata": {
    "ExecuteTime": {
     "end_time": "2020-11-10T03:03:32.938453Z",
     "start_time": "2020-11-10T03:03:30.712401Z"
    }
   },
   "outputs": [],
   "source": [
    "uid=100167517\n",
    "userlisten(uid,listenlist)"
   ]
  },
  {
   "cell_type": "code",
   "execution_count": null,
   "metadata": {
    "ExecuteTime": {
     "end_time": "2020-11-10T03:05:27.500064Z",
     "start_time": "2020-11-10T03:05:25.145936Z"
    }
   },
   "outputs": [],
   "source": [
    "uid=74699896\n",
    "userlisten(uid,listenlist)"
   ]
  },
  {
   "cell_type": "code",
   "execution_count": null,
   "metadata": {
    "ExecuteTime": {
     "end_time": "2020-11-10T03:05:28.318282Z",
     "start_time": "2020-11-10T03:05:28.209698Z"
    }
   },
   "outputs": [],
   "source": [
    "pd.DataFrame(listenlist,columns=['user_id','week','alltime'])"
   ]
  },
  {
   "cell_type": "code",
   "execution_count": null,
   "metadata": {
    "ExecuteTime": {
     "end_time": "2020-11-09T16:44:02.631759Z",
     "start_time": "2020-11-09T16:44:00.432856Z"
    }
   },
   "outputs": [],
   "source": [
    "uid=1430350262\n",
    "weeklisten(uid)"
   ]
  },
  {
   "cell_type": "code",
   "execution_count": null,
   "metadata": {},
   "outputs": [],
   "source": []
  },
  {
   "cell_type": "code",
   "execution_count": null,
   "metadata": {},
   "outputs": [],
   "source": []
  },
  {
   "cell_type": "markdown",
   "metadata": {},
   "source": [
    "## 调试"
   ]
  },
  {
   "cell_type": "code",
   "execution_count": null,
   "metadata": {
    "ExecuteTime": {
     "end_time": "2020-11-10T02:27:39.179401Z",
     "start_time": "2020-11-10T02:27:39.173652Z"
    }
   },
   "outputs": [],
   "source": [
    "def weeklisten(uid):\n",
    "#post请求地址 这里为得到一首歌曲的url地址的api 其他api看后面\n",
    "    url = 'http://music.163.com/weapi/v1/play/record?csrf_token='\n",
    "    headers = {\n",
    "    'Referer': 'http://music.163.com/'\n",
    "    }\n",
    "    #这个不知道是什么东西 跟着抄过来\n",
    "    modulus = '00e0b509f6259df8642dbc35662901477df22677ec152b5ff68ace615bb7b725152b3ab17a876aea8a5aa76d2e417629ec4ee341f56135fccf695280104e0312ecbda92557c93870114af6c9d05c4f7f0c3685b7a46bee255932575cce10b424d813cfe4875d3e82047b97ddef52741d546b8e289dc6935b3ece0462db0a22b8e7'\n",
    "    #将json进行第一次aes加密的时候用这个作为密钥\n",
    "    nonce = '0CoJUm6Qyw8W8jud'# rsa加密的公钥\n",
    "    pubKey = '010001'#构建json 这是获得一首歌曲的url的api 其他的api看后面\n",
    "    \n",
    "    text1 = {\n",
    "            \"uid\":str(int(uid)),#用户id\n",
    "            \"type\":\"1\", \n",
    "            #为1时获得该用户一个星期听歌排行，为0时获得所有时间听歌排行\n",
    "            \"limit\":\"1000\",\n",
    "            \"offset\":\"0\",\n",
    "            \"total\":\"true\",\n",
    "            \"csrf_token\":\"\"\n",
    "           }\n",
    "         # 将字典dump成一个json字符串\n",
    "    text1 = json.dumps(text1)\n",
    "    #获得一个16位的随机字符串，我们这里图省事给的是16个F\n",
    "    secKey1 = createSecretKey(16)\n",
    "    encText1 = aesEncrypt(text1,nonce) #把上面构建的json数据使用nonce进行第一次aes加密\n",
    "    encText1 = aesEncrypt(encText1,secKey1)#使用随机的十六位字符串作为密钥把上面的到的结果进行第二次加密\n",
    "    encSecKey1 = rsaEncrypt(secKey1, pubKey, modulus) #把我们用作ARS加密的密钥进行ras加密\n",
    "    #由于我们这里使用的一直是使用十六个F作为密钥所以这个对于我们来说是不变的，所以只要加密一遍以后直接复制出来搞成一个常量就行，每次提交给服务器都一样\n",
    "    data1 = {\n",
    "            'params': str(encText1),\n",
    "            'encSecKey': encSecKey1\n",
    "           }\n",
    "    req1 = requests.post(url, headers=headers, data=data1) #发送post请求\n",
    "    info1 = json.loads(req1.text)\n",
    "\n",
    "    if info1['code']==200:\n",
    "        weekinfo = info1\n",
    "        return weekinfo\n",
    "    else:\n",
    "        print('  ',uid,'  ',info1)\n",
    "        weekinfo = info1"
   ]
  },
  {
   "cell_type": "code",
   "execution_count": null,
   "metadata": {
    "ExecuteTime": {
     "end_time": "2020-11-10T02:27:40.786807Z",
     "start_time": "2020-11-10T02:27:39.667339Z"
    }
   },
   "outputs": [],
   "source": [
    "uid =74699896\n",
    "weeklisten(uid)"
   ]
  },
  {
   "cell_type": "code",
   "execution_count": null,
   "metadata": {
    "ExecuteTime": {
     "end_time": "2020-11-10T02:33:56.765386Z",
     "start_time": "2020-11-10T02:33:55.626668Z"
    }
   },
   "outputs": [],
   "source": [
    "uid =1430350262\n",
    "weeklisten(uid)"
   ]
  },
  {
   "cell_type": "code",
   "execution_count": null,
   "metadata": {
    "ExecuteTime": {
     "end_time": "2020-11-10T02:32:26.125698Z",
     "start_time": "2020-11-10T02:32:25.981441Z"
    }
   },
   "outputs": [],
   "source": [
    "len(weekinfo)"
   ]
  }
 ],
 "metadata": {
  "kernelspec": {
   "display_name": "Python 3",
   "language": "python",
   "name": "python3"
  },
  "language_info": {
   "codemirror_mode": {
    "name": "ipython",
    "version": 3
   },
   "file_extension": ".py",
   "mimetype": "text/x-python",
   "name": "python",
   "nbconvert_exporter": "python",
   "pygments_lexer": "ipython3",
   "version": "3.8.5"
  },
  "toc": {
   "base_numbering": 1,
   "nav_menu": {},
   "number_sections": true,
   "sideBar": true,
   "skip_h1_title": false,
   "title_cell": "Table of Contents",
   "title_sidebar": "Contents",
   "toc_cell": false,
   "toc_position": {},
   "toc_section_display": true,
   "toc_window_display": false
  }
 },
 "nbformat": 4,
 "nbformat_minor": 4
}
